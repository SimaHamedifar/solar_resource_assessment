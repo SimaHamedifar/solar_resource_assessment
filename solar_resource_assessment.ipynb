{
 "cells": [
  {
   "cell_type": "markdown",
   "id": "9d178f70",
   "metadata": {},
   "source": [
    "## Imports"
   ]
  },
  {
   "cell_type": "code",
   "execution_count": 2,
   "id": "dbd02b35",
   "metadata": {},
   "outputs": [],
   "source": [
    "import os\n",
    "import numpy as np\n",
    "import pandas as pd\n",
    "import matplotlib.pyplot as plt\n",
    "import rasterio\n",
    "from rasterio.plot import show\n",
    "import geopandas as gpd\n",
    "from shapely.geometry import box\n",
    "from rasterio.mask import mask\n",
    "from scipy.spatial import cKDTree\n",
    "# k-dimensional tree (KDTree) data structure, optimized for efficient nearest-neighbor searches \n",
    "# in multi-dimensional space."
   ]
  },
  {
   "cell_type": "code",
   "execution_count": 3,
   "id": "f04f7053",
   "metadata": {},
   "outputs": [],
   "source": [
    "solar_file = \"data/solar/ottawa_nsrdb_2020.csv\"\n",
    "landcover_file = \"data/land/landcover-2020-classification.tif\"\n",
    "dem_file = \"data/land/output_be.tif\"\n",
    "dem_slope_file = \"data/land/viz/viz.be_slope.tif\"\n",
    "dem_aspect_file = \"data/land/viz/viz.be_aspect.tif\"\n",
    "# No protected areas in Ottawa.\n",
    "grid_lines_file = \"data/Ottawa_grid_lines/ottawa_grid_lines.shp\"\n",
    "grid_substations_file = \"data/Ottawa_grid_substations/ottawa_substations.shp\""
   ]
  },
  {
   "cell_type": "markdown",
   "id": "fa117e18",
   "metadata": {},
   "source": [
    "## Slope\n",
    "There is a .tif file for the slope values in Ottawa region. "
   ]
  },
  {
   "cell_type": "markdown",
   "id": "e686e324",
   "metadata": {},
   "source": [
    "## Land Cover\n",
    "The suitable lands are chosen. "
   ]
  },
  {
   "cell_type": "code",
   "execution_count": 4,
   "id": "4151e71d",
   "metadata": {},
   "outputs": [],
   "source": [
    "bbox = box(-76.5, 44.9, -75.0, 45.6) # min of lon & lat, max of lon & lat\n",
    "geo = gpd.GeoDataFrame({\"geometry\":[bbox]}, crs=\"EPSG:4326\")\n",
    "with rasterio.open(landcover_file) as src:\n",
    "    lc = src.read(1)\n",
    "    profile = src.profile\n",
    "    out_img, out_transform = mask(src, geo.geometry, crop=True)\n",
    "classes = np.unique(lc)"
   ]
  },
  {
   "cell_type": "code",
   "execution_count": 6,
   "id": "1bb78f45",
   "metadata": {},
   "outputs": [
    {
     "name": "stdout",
     "output_type": "stream",
     "text": [
      "[ 0  1  2  3  5  6  8 10 11 12 13 14 15 16 17 18 19]\n"
     ]
    }
   ],
   "source": [
    "print(classes)"
   ]
  },
  {
   "cell_type": "markdown",
   "id": "42664fad",
   "metadata": {},
   "source": [
    "Natural Resources Canada land cover legends https://www150.statcan.gc.ca/n1/pub/16-510-x/16-510-x2025003-eng.htm\n",
    "Cropland: 2, Sparsely vegetated land: 9, Barren land: 10"
   ]
  },
  {
   "cell_type": "code",
   "execution_count": null,
   "id": "4de916a8",
   "metadata": {},
   "outputs": [
    {
     "ename": "",
     "evalue": "",
     "output_type": "error",
     "traceback": [
      "\u001b[1;31mThe Kernel crashed while executing code in the current cell or a previous cell. \n",
      "\u001b[1;31mPlease review the code in the cell(s) to identify a possible cause of the failure. \n",
      "\u001b[1;31mClick <a href='https://aka.ms/vscodeJupyterKernelCrash'>here</a> for more info. \n",
      "\u001b[1;31mView Jupyter <a href='command:jupyter.viewOutput'>log</a> for further details."
     ]
    }
   ],
   "source": [
    "suitable_classes = [2, 9, 10]\n",
    "lc_mask = np.isin(lc, suitable_classes).astype(np.uint8)\n",
    "\n",
    "profile.update(dtype=rasterio.uint8)\n",
    "\n",
    "with rasterio.open(\"data/processed/ottawa_landcover_mask.tif\", \"w\", **profile) as dst:\n",
    "    dst.write(lc_mask, 1)\n",
    "\n",
    "plt.imshow(lc_mask, cmap=\"Greens\")\n",
    "plt.title(\"Land Cover Suitability Mask\")\n",
    "plt.show()\n"
   ]
  },
  {
   "cell_type": "markdown",
   "id": "e784e602",
   "metadata": {},
   "source": [
    "## No procted areas"
   ]
  },
  {
   "cell_type": "code",
   "execution_count": null,
   "id": "2049f622",
   "metadata": {},
   "outputs": [],
   "source": [
    "grid_lines = gpd.read_file(grid_lines_file).to_crs(epsg=3347)\n",
    "\n",
    "# Sample raster grid\n",
    "with rasterio.open(dem_fp) as src:\n",
    "    transform = src.transform\n",
    "    width, height = src.width, src.height\n",
    "    xs, ys = np.meshgrid(np.arange(width), np.arange(height))\n",
    "    xs, ys = rasterio.transform.xy(transform, ys, xs)\n",
    "    points = np.column_stack([np.ravel(xs), np.ravel(ys)])\n",
    "    out_meta = src.meta.copy()\n",
    "\n",
    "# Extract line coordinates\n",
    "line_coords = np.vstack([\n",
    "    np.array(geom.coords) \n",
    "    for geom in grid_lines.geometry if geom.geom_type == \"LineString\"\n",
    "])\n",
    "\n",
    "# KD-tree nearest distance\n",
    "tree = cKDTree(line_coords)\n",
    "distances, _ = tree.query(points, k=1)\n",
    "\n",
    "distance_raster = distances.reshape(height, width)\n",
    "\n",
    "out_meta.update(dtype=rasterio.float32)\n",
    "\n",
    "with rasterio.open(\"data/processed/ottawa_grid_distance.tif\", \"w\", **out_meta) as dst:\n",
    "    dst.write(distance_raster.astype(np.float32), 1)\n",
    "\n",
    "plt.imshow(distance_raster, cmap=\"plasma\")\n",
    "plt.colorbar(label=\"Distance to Grid (m)\")\n",
    "plt.title(\"Transmission Grid Proximity\")\n",
    "plt.show()"
   ]
  },
  {
   "cell_type": "code",
   "execution_count": null,
   "id": "c67c42f4",
   "metadata": {},
   "outputs": [],
   "source": [
    "# Load slope mask: allow only slopes < 5°\n",
    "slope_arr = slope < 5\n",
    "\n",
    "# Land cover mask\n",
    "with rasterio.open(\"data/processed/ottawa_landcover_mask.tif\") as src:\n",
    "    lc_mask = src.read(1).astype(bool)\n",
    "\n",
    "# Protected mask (invert: 1=protected → unsuitable, but here all 0)\n",
    "with rasterio.open(\"data/processed/ottawa_protected_mask.tif\") as src:\n",
    "    protected_mask = src.read(1).astype(bool)\n",
    "\n",
    "# Final mask\n",
    "final_mask = slope_arr & lc_mask & (~protected_mask)\n",
    "\n",
    "plt.imshow(final_mask, cmap=\"gray\")\n",
    "plt.title(\"Final Suitability Mask\")\n",
    "plt.show()\n",
    "\n",
    "# Save\n",
    "with rasterio.open(\"data/processed/ottawa_final_suitability.tif\", \"w\", **profile) as dst:\n",
    "    dst.write(final_mask.astype(rasterio.uint8), 1)\n"
   ]
  }
 ],
 "metadata": {
  "kernelspec": {
   "display_name": ".venv",
   "language": "python",
   "name": "python3"
  },
  "language_info": {
   "codemirror_mode": {
    "name": "ipython",
    "version": 3
   },
   "file_extension": ".py",
   "mimetype": "text/x-python",
   "name": "python",
   "nbconvert_exporter": "python",
   "pygments_lexer": "ipython3",
   "version": "3.11.2"
  }
 },
 "nbformat": 4,
 "nbformat_minor": 5
}
